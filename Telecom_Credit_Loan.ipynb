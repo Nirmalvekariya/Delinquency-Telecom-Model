{
  "nbformat": 4,
  "nbformat_minor": 0,
  "metadata": {
    "kernelspec": {
      "display_name": "Python 3",
      "language": "python",
      "name": "python3"
    },
    "language_info": {
      "codemirror_mode": {
        "name": "ipython",
        "version": 3
      },
      "file_extension": ".py",
      "mimetype": "text/x-python",
      "name": "python",
      "nbconvert_exporter": "python",
      "pygments_lexer": "ipython3",
      "version": "3.7.4"
    },
    "colab": {
      "name": "Telecom_Credit_Loan.ipynb",
      "provenance": [],
      "collapsed_sections": []
    }
  },
  "cells": [
    {
      "cell_type": "markdown",
      "metadata": {
        "id": "gvpOGWmO91Ty",
        "colab_type": "text"
      },
      "source": [
        "# **Delinquency Telecom Model**\n",
        "\n",
        "# **Problem statement:**\n",
        "Create a delinquency model which can predict in terms of a probability for each loan transaction, whether the customer will be paying back the loaned amount within 5 days of insurance of loan (Label ‘1’ & ’0’)\n",
        "\n"
      ]
    },
    {
      "cell_type": "code",
      "metadata": {
        "id": "tCHx8pfe8crq",
        "colab_type": "code",
        "colab": {}
      },
      "source": [
        "# importing required libraries\n",
        "import pandas as pd\n",
        "import numpy as np\n",
        "import seaborn as sns\n",
        "import matplotlib.pyplot as plt\n",
        "import seaborn as sns\n",
        "from sklearn.ensemble import RandomForestClassifier\n",
        "from sklearn.model_selection import train_test_split\n",
        "from sklearn import metrics\n",
        "from sklearn.metrics import classification_report\n",
        "from sklearn.metrics import confusion_matrix\n",
        "from sklearn.linear_model import LogisticRegression\n",
        "from sklearn.tree import DecisionTreeClassifier\n",
        "from imblearn.over_sampling import SMOTE\n",
        "from sklearn.preprocessing import StandardScaler"
      ],
      "execution_count": 72,
      "outputs": []
    },
    {
      "cell_type": "code",
      "metadata": {
        "id": "Arx-S70p8cry",
        "colab_type": "code",
        "colab": {
          "base_uri": "https://localhost:8080/",
          "height": 70
        },
        "outputId": "931c9046-63a7-464c-87db-534b5a052ea8"
      },
      "source": [
        "#Reading the dataset\n",
        "telecom_data = pd.read_csv(\"/content/drive/My Drive/algo8/sample_data_intw.csv\")"
      ],
      "execution_count": 73,
      "outputs": [
        {
          "output_type": "stream",
          "text": [
            "/usr/local/lib/python3.6/dist-packages/IPython/core/interactiveshell.py:2718: DtypeWarning: Columns (20) have mixed types.Specify dtype option on import or set low_memory=False.\n",
            "  interactivity=interactivity, compiler=compiler, result=result)\n"
          ],
          "name": "stderr"
        }
      ]
    },
    {
      "cell_type": "code",
      "metadata": {
        "id": "oS_cTIRU8cr4",
        "colab_type": "code",
        "colab": {
          "base_uri": "https://localhost:8080/",
          "height": 316
        },
        "outputId": "a598c284-35cd-4fe8-9ac4-83bb723510fc"
      },
      "source": [
        "#viewing the top 5 rows of the dataset to get a brief overview about the dataset\n",
        "telecom_data.head()"
      ],
      "execution_count": 74,
      "outputs": [
        {
          "output_type": "execute_result",
          "data": {
            "text/html": [
              "<div>\n",
              "<style scoped>\n",
              "    .dataframe tbody tr th:only-of-type {\n",
              "        vertical-align: middle;\n",
              "    }\n",
              "\n",
              "    .dataframe tbody tr th {\n",
              "        vertical-align: top;\n",
              "    }\n",
              "\n",
              "    .dataframe thead th {\n",
              "        text-align: right;\n",
              "    }\n",
              "</style>\n",
              "<table border=\"1\" class=\"dataframe\">\n",
              "  <thead>\n",
              "    <tr style=\"text-align: right;\">\n",
              "      <th></th>\n",
              "      <th>Unnamed: 0</th>\n",
              "      <th>label</th>\n",
              "      <th>msisdn</th>\n",
              "      <th>aon</th>\n",
              "      <th>daily_decr30</th>\n",
              "      <th>daily_decr90</th>\n",
              "      <th>rental30</th>\n",
              "      <th>rental90</th>\n",
              "      <th>last_rech_date_ma</th>\n",
              "      <th>last_rech_date_da</th>\n",
              "      <th>last_rech_amt_ma</th>\n",
              "      <th>cnt_ma_rech30</th>\n",
              "      <th>fr_ma_rech30</th>\n",
              "      <th>sumamnt_ma_rech30</th>\n",
              "      <th>medianamnt_ma_rech30</th>\n",
              "      <th>medianmarechprebal30</th>\n",
              "      <th>cnt_ma_rech90</th>\n",
              "      <th>fr_ma_rech90</th>\n",
              "      <th>sumamnt_ma_rech90</th>\n",
              "      <th>medianamnt_ma_rech90</th>\n",
              "      <th>medianmarechprebal90</th>\n",
              "      <th>cnt_da_rech30</th>\n",
              "      <th>fr_da_rech30</th>\n",
              "      <th>cnt_da_rech90</th>\n",
              "      <th>fr_da_rech90</th>\n",
              "      <th>cnt_loans30</th>\n",
              "      <th>amnt_loans30</th>\n",
              "      <th>maxamnt_loans30</th>\n",
              "      <th>medianamnt_loans30</th>\n",
              "      <th>cnt_loans90</th>\n",
              "      <th>amnt_loans90</th>\n",
              "      <th>maxamnt_loans90</th>\n",
              "      <th>medianamnt_loans90</th>\n",
              "      <th>payback30</th>\n",
              "      <th>payback90</th>\n",
              "      <th>pcircle</th>\n",
              "      <th>pdate</th>\n",
              "    </tr>\n",
              "  </thead>\n",
              "  <tbody>\n",
              "    <tr>\n",
              "      <th>0</th>\n",
              "      <td>1</td>\n",
              "      <td>0</td>\n",
              "      <td>21408I70789</td>\n",
              "      <td>272.0</td>\n",
              "      <td>3055.050000</td>\n",
              "      <td>3065.150000</td>\n",
              "      <td>220.13</td>\n",
              "      <td>260.13</td>\n",
              "      <td>2.0</td>\n",
              "      <td>0.0</td>\n",
              "      <td>1539</td>\n",
              "      <td>2</td>\n",
              "      <td>21.0</td>\n",
              "      <td>3078.0</td>\n",
              "      <td>1539.0</td>\n",
              "      <td>7.50</td>\n",
              "      <td>2</td>\n",
              "      <td>21</td>\n",
              "      <td>3078</td>\n",
              "      <td>1539.0</td>\n",
              "      <td>7.5</td>\n",
              "      <td>0.0</td>\n",
              "      <td>0.0</td>\n",
              "      <td>0.0</td>\n",
              "      <td>0.0</td>\n",
              "      <td>2.0</td>\n",
              "      <td>12.0</td>\n",
              "      <td>6.0</td>\n",
              "      <td>0.0</td>\n",
              "      <td>2.0</td>\n",
              "      <td>12.0</td>\n",
              "      <td>6.0</td>\n",
              "      <td>0.0</td>\n",
              "      <td>29.000000</td>\n",
              "      <td>29.000000</td>\n",
              "      <td>UPW</td>\n",
              "      <td>2016-07-20</td>\n",
              "    </tr>\n",
              "    <tr>\n",
              "      <th>1</th>\n",
              "      <td>2</td>\n",
              "      <td>1</td>\n",
              "      <td>76462I70374</td>\n",
              "      <td>712.0</td>\n",
              "      <td>12122.000000</td>\n",
              "      <td>12124.750000</td>\n",
              "      <td>3691.26</td>\n",
              "      <td>3691.26</td>\n",
              "      <td>20.0</td>\n",
              "      <td>0.0</td>\n",
              "      <td>5787</td>\n",
              "      <td>1</td>\n",
              "      <td>0.0</td>\n",
              "      <td>5787.0</td>\n",
              "      <td>5787.0</td>\n",
              "      <td>61.04</td>\n",
              "      <td>1</td>\n",
              "      <td>0</td>\n",
              "      <td>5787</td>\n",
              "      <td>5787.0</td>\n",
              "      <td>61.04</td>\n",
              "      <td>0.0</td>\n",
              "      <td>0.0</td>\n",
              "      <td>0.0</td>\n",
              "      <td>0.0</td>\n",
              "      <td>1.0</td>\n",
              "      <td>12.0</td>\n",
              "      <td>12.0</td>\n",
              "      <td>0.0</td>\n",
              "      <td>1.0</td>\n",
              "      <td>12.0</td>\n",
              "      <td>12.0</td>\n",
              "      <td>0.0</td>\n",
              "      <td>0.000000</td>\n",
              "      <td>0.000000</td>\n",
              "      <td>UPW</td>\n",
              "      <td>2016-08-10</td>\n",
              "    </tr>\n",
              "    <tr>\n",
              "      <th>2</th>\n",
              "      <td>3</td>\n",
              "      <td>1</td>\n",
              "      <td>17943I70372</td>\n",
              "      <td>535.0</td>\n",
              "      <td>1398.000000</td>\n",
              "      <td>1398.000000</td>\n",
              "      <td>900.13</td>\n",
              "      <td>900.13</td>\n",
              "      <td>3.0</td>\n",
              "      <td>0.0</td>\n",
              "      <td>1539</td>\n",
              "      <td>1</td>\n",
              "      <td>0.0</td>\n",
              "      <td>1539.0</td>\n",
              "      <td>1539.0</td>\n",
              "      <td>66.32</td>\n",
              "      <td>1</td>\n",
              "      <td>0</td>\n",
              "      <td>1539</td>\n",
              "      <td>1539.0</td>\n",
              "      <td>66.32</td>\n",
              "      <td>0.0</td>\n",
              "      <td>0.0</td>\n",
              "      <td>0.0</td>\n",
              "      <td>0.0</td>\n",
              "      <td>1.0</td>\n",
              "      <td>6.0</td>\n",
              "      <td>6.0</td>\n",
              "      <td>0.0</td>\n",
              "      <td>1.0</td>\n",
              "      <td>6.0</td>\n",
              "      <td>6.0</td>\n",
              "      <td>0.0</td>\n",
              "      <td>0.000000</td>\n",
              "      <td>0.000000</td>\n",
              "      <td>UPW</td>\n",
              "      <td>2016-08-19</td>\n",
              "    </tr>\n",
              "    <tr>\n",
              "      <th>3</th>\n",
              "      <td>4</td>\n",
              "      <td>1</td>\n",
              "      <td>55773I70781</td>\n",
              "      <td>241.0</td>\n",
              "      <td>21.228000</td>\n",
              "      <td>21.228000</td>\n",
              "      <td>159.42</td>\n",
              "      <td>159.42</td>\n",
              "      <td>41.0</td>\n",
              "      <td>0.0</td>\n",
              "      <td>947</td>\n",
              "      <td>0</td>\n",
              "      <td>0.0</td>\n",
              "      <td>0.0</td>\n",
              "      <td>0.0</td>\n",
              "      <td>0.00</td>\n",
              "      <td>1</td>\n",
              "      <td>0</td>\n",
              "      <td>947</td>\n",
              "      <td>947.0</td>\n",
              "      <td>2.5</td>\n",
              "      <td>0.0</td>\n",
              "      <td>0.0</td>\n",
              "      <td>0.0</td>\n",
              "      <td>0.0</td>\n",
              "      <td>2.0</td>\n",
              "      <td>12.0</td>\n",
              "      <td>6.0</td>\n",
              "      <td>0.0</td>\n",
              "      <td>2.0</td>\n",
              "      <td>12.0</td>\n",
              "      <td>6.0</td>\n",
              "      <td>0.0</td>\n",
              "      <td>0.000000</td>\n",
              "      <td>0.000000</td>\n",
              "      <td>UPW</td>\n",
              "      <td>2016-06-06</td>\n",
              "    </tr>\n",
              "    <tr>\n",
              "      <th>4</th>\n",
              "      <td>5</td>\n",
              "      <td>1</td>\n",
              "      <td>03813I82730</td>\n",
              "      <td>947.0</td>\n",
              "      <td>150.619333</td>\n",
              "      <td>150.619333</td>\n",
              "      <td>1098.90</td>\n",
              "      <td>1098.90</td>\n",
              "      <td>4.0</td>\n",
              "      <td>0.0</td>\n",
              "      <td>2309</td>\n",
              "      <td>7</td>\n",
              "      <td>2.0</td>\n",
              "      <td>20029.0</td>\n",
              "      <td>2309.0</td>\n",
              "      <td>29.00</td>\n",
              "      <td>8</td>\n",
              "      <td>2</td>\n",
              "      <td>23496</td>\n",
              "      <td>2888.0</td>\n",
              "      <td>35</td>\n",
              "      <td>0.0</td>\n",
              "      <td>0.0</td>\n",
              "      <td>0.0</td>\n",
              "      <td>0.0</td>\n",
              "      <td>7.0</td>\n",
              "      <td>42.0</td>\n",
              "      <td>6.0</td>\n",
              "      <td>0.0</td>\n",
              "      <td>7.0</td>\n",
              "      <td>42.0</td>\n",
              "      <td>6.0</td>\n",
              "      <td>0.0</td>\n",
              "      <td>2.333333</td>\n",
              "      <td>2.333333</td>\n",
              "      <td>UPW</td>\n",
              "      <td>2016-06-22</td>\n",
              "    </tr>\n",
              "  </tbody>\n",
              "</table>\n",
              "</div>"
            ],
            "text/plain": [
              "   Unnamed: 0  label       msisdn  ...  payback90  pcircle       pdate\n",
              "0           1      0  21408I70789  ...  29.000000      UPW  2016-07-20\n",
              "1           2      1  76462I70374  ...   0.000000      UPW  2016-08-10\n",
              "2           3      1  17943I70372  ...   0.000000      UPW  2016-08-19\n",
              "3           4      1  55773I70781  ...   0.000000      UPW  2016-06-06\n",
              "4           5      1  03813I82730  ...   2.333333      UPW  2016-06-22\n",
              "\n",
              "[5 rows x 37 columns]"
            ]
          },
          "metadata": {
            "tags": []
          },
          "execution_count": 74
        }
      ]
    },
    {
      "cell_type": "code",
      "metadata": {
        "id": "eRWviZ0U8cr-",
        "colab_type": "code",
        "colab": {}
      },
      "source": [
        "# Here the column 'Unnamed: 0' is an index column included in the dataset. So, we will drop it as it is not required.\n",
        "telecom_data.drop(columns=['Unnamed: 0'],axis=1,inplace=True)"
      ],
      "execution_count": 75,
      "outputs": []
    },
    {
      "cell_type": "code",
      "metadata": {
        "id": "B5j4VFar-P8q",
        "colab_type": "code",
        "colab": {
          "base_uri": "https://localhost:8080/",
          "height": 34
        },
        "outputId": "a6fe4607-d297-4c9d-fc99-5ff0bc1e58c8"
      },
      "source": [
        "# Checking the shape of the datasets\n",
        "telecom_data.shape"
      ],
      "execution_count": 76,
      "outputs": [
        {
          "output_type": "execute_result",
          "data": {
            "text/plain": [
              "(143322, 36)"
            ]
          },
          "metadata": {
            "tags": []
          },
          "execution_count": 76
        }
      ]
    },
    {
      "cell_type": "code",
      "metadata": {
        "id": "PQ_hdUcJwiTR",
        "colab_type": "code",
        "colab": {}
      },
      "source": [
        "# Removing the Duplicates. Duplicate values can cause give incorrect results in precision and recall.\n",
        "telecom_data.drop_duplicates(inplace=True)"
      ],
      "execution_count": 77,
      "outputs": []
    },
    {
      "cell_type": "code",
      "metadata": {
        "id": "UFS8-O2ewiZX",
        "colab_type": "code",
        "colab": {
          "base_uri": "https://localhost:8080/",
          "height": 34
        },
        "outputId": "65d36277-9f9b-4239-f3eb-ccd3f1a4413b"
      },
      "source": [
        "# Cheking the shape after removing the duplicates\n",
        "telecom_data.shape"
      ],
      "execution_count": 78,
      "outputs": [
        {
          "output_type": "execute_result",
          "data": {
            "text/plain": [
              "(143322, 36)"
            ]
          },
          "metadata": {
            "tags": []
          },
          "execution_count": 78
        }
      ]
    },
    {
      "cell_type": "code",
      "metadata": {
        "scrolled": false,
        "id": "fw09UGZh8csC",
        "colab_type": "code",
        "colab": {
          "base_uri": "https://localhost:8080/",
          "height": 739
        },
        "outputId": "6597bcc0-6204-45ff-dea0-d232745911db"
      },
      "source": [
        "#checking the null values and the datatype of all the columns\n",
        "telecom_data.info()"
      ],
      "execution_count": 79,
      "outputs": [
        {
          "output_type": "stream",
          "text": [
            "<class 'pandas.core.frame.DataFrame'>\n",
            "Int64Index: 143322 entries, 0 to 143321\n",
            "Data columns (total 36 columns):\n",
            " #   Column                Non-Null Count   Dtype  \n",
            "---  ------                --------------   -----  \n",
            " 0   label                 143322 non-null  int64  \n",
            " 1   msisdn                143322 non-null  object \n",
            " 2   aon                   143322 non-null  float64\n",
            " 3   daily_decr30          143322 non-null  float64\n",
            " 4   daily_decr90          143322 non-null  float64\n",
            " 5   rental30              143322 non-null  float64\n",
            " 6   rental90              143322 non-null  float64\n",
            " 7   last_rech_date_ma     143322 non-null  float64\n",
            " 8   last_rech_date_da     143322 non-null  float64\n",
            " 9   last_rech_amt_ma      143322 non-null  int64  \n",
            " 10  cnt_ma_rech30         143322 non-null  int64  \n",
            " 11  fr_ma_rech30          143322 non-null  float64\n",
            " 12  sumamnt_ma_rech30     143322 non-null  float64\n",
            " 13  medianamnt_ma_rech30  143322 non-null  float64\n",
            " 14  medianmarechprebal30  143322 non-null  float64\n",
            " 15  cnt_ma_rech90         143322 non-null  int64  \n",
            " 16  fr_ma_rech90          143322 non-null  int64  \n",
            " 17  sumamnt_ma_rech90     143322 non-null  int64  \n",
            " 18  medianamnt_ma_rech90  143322 non-null  float64\n",
            " 19  medianmarechprebal90  143322 non-null  object \n",
            " 20  cnt_da_rech30         143321 non-null  float64\n",
            " 21  fr_da_rech30          143321 non-null  float64\n",
            " 22  cnt_da_rech90         143321 non-null  float64\n",
            " 23  fr_da_rech90          143321 non-null  float64\n",
            " 24  cnt_loans30           143321 non-null  float64\n",
            " 25  amnt_loans30          143321 non-null  float64\n",
            " 26  maxamnt_loans30       143321 non-null  float64\n",
            " 27  medianamnt_loans30    143321 non-null  float64\n",
            " 28  cnt_loans90           143321 non-null  float64\n",
            " 29  amnt_loans90          143321 non-null  float64\n",
            " 30  maxamnt_loans90       143321 non-null  float64\n",
            " 31  medianamnt_loans90    143321 non-null  float64\n",
            " 32  payback30             143321 non-null  float64\n",
            " 33  payback90             143321 non-null  float64\n",
            " 34  pcircle               143321 non-null  object \n",
            " 35  pdate                 143321 non-null  object \n",
            "dtypes: float64(26), int64(6), object(4)\n",
            "memory usage: 40.5+ MB\n"
          ],
          "name": "stdout"
        }
      ]
    },
    {
      "cell_type": "code",
      "metadata": {
        "id": "-l5R1zIy8csH",
        "colab_type": "code",
        "colab": {}
      },
      "source": [
        "# As there are some minor null values we will drop them\n",
        "telecom_data.dropna(inplace=True)"
      ],
      "execution_count": 80,
      "outputs": []
    },
    {
      "cell_type": "code",
      "metadata": {
        "id": "h9ZUYbaf8csQ",
        "colab_type": "code",
        "colab": {
          "base_uri": "https://localhost:8080/",
          "height": 638
        },
        "outputId": "b2610b3f-b8b1-4cb4-9f62-5e1c67354b66"
      },
      "source": [
        "#Checking null values if any\n",
        "telecom_data.isnull().sum()"
      ],
      "execution_count": 81,
      "outputs": [
        {
          "output_type": "execute_result",
          "data": {
            "text/plain": [
              "label                   0\n",
              "msisdn                  0\n",
              "aon                     0\n",
              "daily_decr30            0\n",
              "daily_decr90            0\n",
              "rental30                0\n",
              "rental90                0\n",
              "last_rech_date_ma       0\n",
              "last_rech_date_da       0\n",
              "last_rech_amt_ma        0\n",
              "cnt_ma_rech30           0\n",
              "fr_ma_rech30            0\n",
              "sumamnt_ma_rech30       0\n",
              "medianamnt_ma_rech30    0\n",
              "medianmarechprebal30    0\n",
              "cnt_ma_rech90           0\n",
              "fr_ma_rech90            0\n",
              "sumamnt_ma_rech90       0\n",
              "medianamnt_ma_rech90    0\n",
              "medianmarechprebal90    0\n",
              "cnt_da_rech30           0\n",
              "fr_da_rech30            0\n",
              "cnt_da_rech90           0\n",
              "fr_da_rech90            0\n",
              "cnt_loans30             0\n",
              "amnt_loans30            0\n",
              "maxamnt_loans30         0\n",
              "medianamnt_loans30      0\n",
              "cnt_loans90             0\n",
              "amnt_loans90            0\n",
              "maxamnt_loans90         0\n",
              "medianamnt_loans90      0\n",
              "payback30               0\n",
              "payback90               0\n",
              "pcircle                 0\n",
              "pdate                   0\n",
              "dtype: int64"
            ]
          },
          "metadata": {
            "tags": []
          },
          "execution_count": 81
        }
      ]
    },
    {
      "cell_type": "markdown",
      "metadata": {
        "id": "LCUxo6BhCvnW",
        "colab_type": "text"
      },
      "source": [
        "Now the Null values has been removed from the dataset but there are columns like *'msisdn', 'medianmarechprebal90', 'pcircle' and 'pdate'* which are of object data type so, it needs to be handled first. "
      ]
    },
    {
      "cell_type": "code",
      "metadata": {
        "id": "sGNhnTyO8csV",
        "colab_type": "code",
        "colab": {
          "base_uri": "https://localhost:8080/",
          "height": 410
        },
        "outputId": "c14752a7-8c6a-4908-bdfb-12ddf91efda7"
      },
      "source": [
        "#Checking the statistical Analysis of the whole dataset.\n",
        "telecom_data.describe(include='all')"
      ],
      "execution_count": 82,
      "outputs": [
        {
          "output_type": "execute_result",
          "data": {
            "text/html": [
              "<div>\n",
              "<style scoped>\n",
              "    .dataframe tbody tr th:only-of-type {\n",
              "        vertical-align: middle;\n",
              "    }\n",
              "\n",
              "    .dataframe tbody tr th {\n",
              "        vertical-align: top;\n",
              "    }\n",
              "\n",
              "    .dataframe thead th {\n",
              "        text-align: right;\n",
              "    }\n",
              "</style>\n",
              "<table border=\"1\" class=\"dataframe\">\n",
              "  <thead>\n",
              "    <tr style=\"text-align: right;\">\n",
              "      <th></th>\n",
              "      <th>label</th>\n",
              "      <th>msisdn</th>\n",
              "      <th>aon</th>\n",
              "      <th>daily_decr30</th>\n",
              "      <th>daily_decr90</th>\n",
              "      <th>rental30</th>\n",
              "      <th>rental90</th>\n",
              "      <th>last_rech_date_ma</th>\n",
              "      <th>last_rech_date_da</th>\n",
              "      <th>last_rech_amt_ma</th>\n",
              "      <th>cnt_ma_rech30</th>\n",
              "      <th>fr_ma_rech30</th>\n",
              "      <th>sumamnt_ma_rech30</th>\n",
              "      <th>medianamnt_ma_rech30</th>\n",
              "      <th>medianmarechprebal30</th>\n",
              "      <th>cnt_ma_rech90</th>\n",
              "      <th>fr_ma_rech90</th>\n",
              "      <th>sumamnt_ma_rech90</th>\n",
              "      <th>medianamnt_ma_rech90</th>\n",
              "      <th>medianmarechprebal90</th>\n",
              "      <th>cnt_da_rech30</th>\n",
              "      <th>fr_da_rech30</th>\n",
              "      <th>cnt_da_rech90</th>\n",
              "      <th>fr_da_rech90</th>\n",
              "      <th>cnt_loans30</th>\n",
              "      <th>amnt_loans30</th>\n",
              "      <th>maxamnt_loans30</th>\n",
              "      <th>medianamnt_loans30</th>\n",
              "      <th>cnt_loans90</th>\n",
              "      <th>amnt_loans90</th>\n",
              "      <th>maxamnt_loans90</th>\n",
              "      <th>medianamnt_loans90</th>\n",
              "      <th>payback30</th>\n",
              "      <th>payback90</th>\n",
              "      <th>pcircle</th>\n",
              "      <th>pdate</th>\n",
              "    </tr>\n",
              "  </thead>\n",
              "  <tbody>\n",
              "    <tr>\n",
              "      <th>count</th>\n",
              "      <td>143321.000000</td>\n",
              "      <td>143321</td>\n",
              "      <td>143321.000000</td>\n",
              "      <td>143321.000000</td>\n",
              "      <td>143321.000000</td>\n",
              "      <td>143321.000000</td>\n",
              "      <td>143321.000000</td>\n",
              "      <td>143321.000000</td>\n",
              "      <td>143321.000000</td>\n",
              "      <td>143321.000000</td>\n",
              "      <td>143321.000000</td>\n",
              "      <td>143321.000000</td>\n",
              "      <td>143321.000000</td>\n",
              "      <td>143321.000000</td>\n",
              "      <td>143321.000000</td>\n",
              "      <td>143321.000000</td>\n",
              "      <td>143321.000000</td>\n",
              "      <td>143321.000000</td>\n",
              "      <td>143321.000000</td>\n",
              "      <td>143321.0</td>\n",
              "      <td>143321.000000</td>\n",
              "      <td>143321.000000</td>\n",
              "      <td>143321.000000</td>\n",
              "      <td>143321.00000</td>\n",
              "      <td>143321.000000</td>\n",
              "      <td>143321.000000</td>\n",
              "      <td>143321.000000</td>\n",
              "      <td>143321.000000</td>\n",
              "      <td>143321.000000</td>\n",
              "      <td>143321.000000</td>\n",
              "      <td>143321.000000</td>\n",
              "      <td>143321.000000</td>\n",
              "      <td>143321.000000</td>\n",
              "      <td>143321.000000</td>\n",
              "      <td>143321</td>\n",
              "      <td>143321</td>\n",
              "    </tr>\n",
              "    <tr>\n",
              "      <th>unique</th>\n",
              "      <td>NaN</td>\n",
              "      <td>131862</td>\n",
              "      <td>NaN</td>\n",
              "      <td>NaN</td>\n",
              "      <td>NaN</td>\n",
              "      <td>NaN</td>\n",
              "      <td>NaN</td>\n",
              "      <td>NaN</td>\n",
              "      <td>NaN</td>\n",
              "      <td>NaN</td>\n",
              "      <td>NaN</td>\n",
              "      <td>NaN</td>\n",
              "      <td>NaN</td>\n",
              "      <td>NaN</td>\n",
              "      <td>NaN</td>\n",
              "      <td>NaN</td>\n",
              "      <td>NaN</td>\n",
              "      <td>NaN</td>\n",
              "      <td>NaN</td>\n",
              "      <td>27200.0</td>\n",
              "      <td>NaN</td>\n",
              "      <td>NaN</td>\n",
              "      <td>NaN</td>\n",
              "      <td>NaN</td>\n",
              "      <td>NaN</td>\n",
              "      <td>NaN</td>\n",
              "      <td>NaN</td>\n",
              "      <td>NaN</td>\n",
              "      <td>NaN</td>\n",
              "      <td>NaN</td>\n",
              "      <td>NaN</td>\n",
              "      <td>NaN</td>\n",
              "      <td>NaN</td>\n",
              "      <td>NaN</td>\n",
              "      <td>1</td>\n",
              "      <td>82</td>\n",
              "    </tr>\n",
              "    <tr>\n",
              "      <th>top</th>\n",
              "      <td>NaN</td>\n",
              "      <td>42825I88688</td>\n",
              "      <td>NaN</td>\n",
              "      <td>NaN</td>\n",
              "      <td>NaN</td>\n",
              "      <td>NaN</td>\n",
              "      <td>NaN</td>\n",
              "      <td>NaN</td>\n",
              "      <td>NaN</td>\n",
              "      <td>NaN</td>\n",
              "      <td>NaN</td>\n",
              "      <td>NaN</td>\n",
              "      <td>NaN</td>\n",
              "      <td>NaN</td>\n",
              "      <td>NaN</td>\n",
              "      <td>NaN</td>\n",
              "      <td>NaN</td>\n",
              "      <td>NaN</td>\n",
              "      <td>NaN</td>\n",
              "      <td>0.0</td>\n",
              "      <td>NaN</td>\n",
              "      <td>NaN</td>\n",
              "      <td>NaN</td>\n",
              "      <td>NaN</td>\n",
              "      <td>NaN</td>\n",
              "      <td>NaN</td>\n",
              "      <td>NaN</td>\n",
              "      <td>NaN</td>\n",
              "      <td>NaN</td>\n",
              "      <td>NaN</td>\n",
              "      <td>NaN</td>\n",
              "      <td>NaN</td>\n",
              "      <td>NaN</td>\n",
              "      <td>NaN</td>\n",
              "      <td>UPW</td>\n",
              "      <td>2016-07-07</td>\n",
              "    </tr>\n",
              "    <tr>\n",
              "      <th>freq</th>\n",
              "      <td>NaN</td>\n",
              "      <td>6</td>\n",
              "      <td>NaN</td>\n",
              "      <td>NaN</td>\n",
              "      <td>NaN</td>\n",
              "      <td>NaN</td>\n",
              "      <td>NaN</td>\n",
              "      <td>NaN</td>\n",
              "      <td>NaN</td>\n",
              "      <td>NaN</td>\n",
              "      <td>NaN</td>\n",
              "      <td>NaN</td>\n",
              "      <td>NaN</td>\n",
              "      <td>NaN</td>\n",
              "      <td>NaN</td>\n",
              "      <td>NaN</td>\n",
              "      <td>NaN</td>\n",
              "      <td>NaN</td>\n",
              "      <td>NaN</td>\n",
              "      <td>14674.0</td>\n",
              "      <td>NaN</td>\n",
              "      <td>NaN</td>\n",
              "      <td>NaN</td>\n",
              "      <td>NaN</td>\n",
              "      <td>NaN</td>\n",
              "      <td>NaN</td>\n",
              "      <td>NaN</td>\n",
              "      <td>NaN</td>\n",
              "      <td>NaN</td>\n",
              "      <td>NaN</td>\n",
              "      <td>NaN</td>\n",
              "      <td>NaN</td>\n",
              "      <td>NaN</td>\n",
              "      <td>NaN</td>\n",
              "      <td>143321</td>\n",
              "      <td>2127</td>\n",
              "    </tr>\n",
              "    <tr>\n",
              "      <th>mean</th>\n",
              "      <td>0.875238</td>\n",
              "      <td>NaN</td>\n",
              "      <td>8197.354355</td>\n",
              "      <td>5369.992423</td>\n",
              "      <td>6069.256132</td>\n",
              "      <td>2705.159723</td>\n",
              "      <td>3497.669456</td>\n",
              "      <td>3788.937530</td>\n",
              "      <td>3814.854215</td>\n",
              "      <td>2065.221510</td>\n",
              "      <td>3.964890</td>\n",
              "      <td>3666.288868</td>\n",
              "      <td>7694.727667</td>\n",
              "      <td>1815.022460</td>\n",
              "      <td>3860.352124</td>\n",
              "      <td>6.301254</td>\n",
              "      <td>7.703254</td>\n",
              "      <td>12383.410386</td>\n",
              "      <td>1864.976978</td>\n",
              "      <td>NaN</td>\n",
              "      <td>256.444804</td>\n",
              "      <td>3831.614648</td>\n",
              "      <td>0.042011</td>\n",
              "      <td>0.04605</td>\n",
              "      <td>2.755514</td>\n",
              "      <td>17.925984</td>\n",
              "      <td>271.354875</td>\n",
              "      <td>0.054294</td>\n",
              "      <td>18.032139</td>\n",
              "      <td>23.644323</td>\n",
              "      <td>6.700051</td>\n",
              "      <td>0.046427</td>\n",
              "      <td>3.392883</td>\n",
              "      <td>4.302231</td>\n",
              "      <td>NaN</td>\n",
              "      <td>NaN</td>\n",
              "    </tr>\n",
              "    <tr>\n",
              "      <th>std</th>\n",
              "      <td>0.330450</td>\n",
              "      <td>NaN</td>\n",
              "      <td>76275.475225</td>\n",
              "      <td>9204.296673</td>\n",
              "      <td>10896.325325</td>\n",
              "      <td>4322.585934</td>\n",
              "      <td>5776.408871</td>\n",
              "      <td>54208.834935</td>\n",
              "      <td>54184.986241</td>\n",
              "      <td>2368.891635</td>\n",
              "      <td>4.217955</td>\n",
              "      <td>53037.687388</td>\n",
              "      <td>10201.581227</td>\n",
              "      <td>2073.261225</td>\n",
              "      <td>54037.020775</td>\n",
              "      <td>7.133541</td>\n",
              "      <td>12.576519</td>\n",
              "      <td>16882.812910</td>\n",
              "      <td>2081.031748</td>\n",
              "      <td>NaN</td>\n",
              "      <td>4135.504812</td>\n",
              "      <td>54489.637550</td>\n",
              "      <td>0.407388</td>\n",
              "      <td>0.93865</td>\n",
              "      <td>2.549635</td>\n",
              "      <td>17.348134</td>\n",
              "      <td>4218.726070</td>\n",
              "      <td>0.218354</td>\n",
              "      <td>222.064708</td>\n",
              "      <td>26.473954</td>\n",
              "      <td>2.098101</td>\n",
              "      <td>0.201144</td>\n",
              "      <td>8.793950</td>\n",
              "      <td>10.240352</td>\n",
              "      <td>NaN</td>\n",
              "      <td>NaN</td>\n",
              "    </tr>\n",
              "    <tr>\n",
              "      <th>min</th>\n",
              "      <td>0.000000</td>\n",
              "      <td>NaN</td>\n",
              "      <td>-48.000000</td>\n",
              "      <td>-93.012667</td>\n",
              "      <td>-93.012667</td>\n",
              "      <td>-23737.140000</td>\n",
              "      <td>-24720.580000</td>\n",
              "      <td>-29.000000</td>\n",
              "      <td>-29.000000</td>\n",
              "      <td>0.000000</td>\n",
              "      <td>0.000000</td>\n",
              "      <td>0.000000</td>\n",
              "      <td>0.000000</td>\n",
              "      <td>0.000000</td>\n",
              "      <td>-200.000000</td>\n",
              "      <td>0.000000</td>\n",
              "      <td>0.000000</td>\n",
              "      <td>0.000000</td>\n",
              "      <td>0.000000</td>\n",
              "      <td>NaN</td>\n",
              "      <td>0.000000</td>\n",
              "      <td>0.000000</td>\n",
              "      <td>0.000000</td>\n",
              "      <td>0.00000</td>\n",
              "      <td>0.000000</td>\n",
              "      <td>0.000000</td>\n",
              "      <td>0.000000</td>\n",
              "      <td>0.000000</td>\n",
              "      <td>0.000000</td>\n",
              "      <td>0.000000</td>\n",
              "      <td>0.000000</td>\n",
              "      <td>0.000000</td>\n",
              "      <td>0.000000</td>\n",
              "      <td>0.000000</td>\n",
              "      <td>NaN</td>\n",
              "      <td>NaN</td>\n",
              "    </tr>\n",
              "    <tr>\n",
              "      <th>25%</th>\n",
              "      <td>1.000000</td>\n",
              "      <td>NaN</td>\n",
              "      <td>246.000000</td>\n",
              "      <td>42.104000</td>\n",
              "      <td>42.340000</td>\n",
              "      <td>281.300000</td>\n",
              "      <td>300.390000</td>\n",
              "      <td>1.000000</td>\n",
              "      <td>0.000000</td>\n",
              "      <td>770.000000</td>\n",
              "      <td>1.000000</td>\n",
              "      <td>0.000000</td>\n",
              "      <td>1540.000000</td>\n",
              "      <td>770.000000</td>\n",
              "      <td>11.000000</td>\n",
              "      <td>2.000000</td>\n",
              "      <td>0.000000</td>\n",
              "      <td>2316.000000</td>\n",
              "      <td>773.000000</td>\n",
              "      <td>NaN</td>\n",
              "      <td>0.000000</td>\n",
              "      <td>0.000000</td>\n",
              "      <td>0.000000</td>\n",
              "      <td>0.00000</td>\n",
              "      <td>1.000000</td>\n",
              "      <td>6.000000</td>\n",
              "      <td>6.000000</td>\n",
              "      <td>0.000000</td>\n",
              "      <td>1.000000</td>\n",
              "      <td>6.000000</td>\n",
              "      <td>6.000000</td>\n",
              "      <td>0.000000</td>\n",
              "      <td>0.000000</td>\n",
              "      <td>0.000000</td>\n",
              "      <td>NaN</td>\n",
              "      <td>NaN</td>\n",
              "    </tr>\n",
              "    <tr>\n",
              "      <th>50%</th>\n",
              "      <td>1.000000</td>\n",
              "      <td>NaN</td>\n",
              "      <td>526.000000</td>\n",
              "      <td>1455.355667</td>\n",
              "      <td>1495.000000</td>\n",
              "      <td>1085.130000</td>\n",
              "      <td>1341.150000</td>\n",
              "      <td>3.000000</td>\n",
              "      <td>0.000000</td>\n",
              "      <td>1539.000000</td>\n",
              "      <td>3.000000</td>\n",
              "      <td>2.000000</td>\n",
              "      <td>4626.000000</td>\n",
              "      <td>1539.000000</td>\n",
              "      <td>33.700000</td>\n",
              "      <td>4.000000</td>\n",
              "      <td>2.000000</td>\n",
              "      <td>7202.000000</td>\n",
              "      <td>1539.000000</td>\n",
              "      <td>NaN</td>\n",
              "      <td>0.000000</td>\n",
              "      <td>0.000000</td>\n",
              "      <td>0.000000</td>\n",
              "      <td>0.00000</td>\n",
              "      <td>2.000000</td>\n",
              "      <td>12.000000</td>\n",
              "      <td>6.000000</td>\n",
              "      <td>0.000000</td>\n",
              "      <td>2.000000</td>\n",
              "      <td>12.000000</td>\n",
              "      <td>6.000000</td>\n",
              "      <td>0.000000</td>\n",
              "      <td>0.000000</td>\n",
              "      <td>1.666667</td>\n",
              "      <td>NaN</td>\n",
              "      <td>NaN</td>\n",
              "    </tr>\n",
              "    <tr>\n",
              "      <th>75%</th>\n",
              "      <td>1.000000</td>\n",
              "      <td>NaN</td>\n",
              "      <td>980.000000</td>\n",
              "      <td>7230.000000</td>\n",
              "      <td>7772.680000</td>\n",
              "      <td>3355.020000</td>\n",
              "      <td>4202.810000</td>\n",
              "      <td>7.000000</td>\n",
              "      <td>0.000000</td>\n",
              "      <td>2309.000000</td>\n",
              "      <td>5.000000</td>\n",
              "      <td>6.000000</td>\n",
              "      <td>10007.000000</td>\n",
              "      <td>1924.000000</td>\n",
              "      <td>83.000000</td>\n",
              "      <td>8.000000</td>\n",
              "      <td>8.000000</td>\n",
              "      <td>16000.000000</td>\n",
              "      <td>1924.000000</td>\n",
              "      <td>NaN</td>\n",
              "      <td>0.000000</td>\n",
              "      <td>0.000000</td>\n",
              "      <td>0.000000</td>\n",
              "      <td>0.00000</td>\n",
              "      <td>4.000000</td>\n",
              "      <td>24.000000</td>\n",
              "      <td>6.000000</td>\n",
              "      <td>0.000000</td>\n",
              "      <td>5.000000</td>\n",
              "      <td>30.000000</td>\n",
              "      <td>6.000000</td>\n",
              "      <td>0.000000</td>\n",
              "      <td>3.750000</td>\n",
              "      <td>4.500000</td>\n",
              "      <td>NaN</td>\n",
              "      <td>NaN</td>\n",
              "    </tr>\n",
              "    <tr>\n",
              "      <th>max</th>\n",
              "      <td>1.000000</td>\n",
              "      <td>NaN</td>\n",
              "      <td>999520.609388</td>\n",
              "      <td>265926.000000</td>\n",
              "      <td>320630.000000</td>\n",
              "      <td>147045.420000</td>\n",
              "      <td>169392.920000</td>\n",
              "      <td>997717.809631</td>\n",
              "      <td>999171.809410</td>\n",
              "      <td>55000.000000</td>\n",
              "      <td>99.000000</td>\n",
              "      <td>997387.033771</td>\n",
              "      <td>810096.000000</td>\n",
              "      <td>55000.000000</td>\n",
              "      <td>999479.419319</td>\n",
              "      <td>172.000000</td>\n",
              "      <td>88.000000</td>\n",
              "      <td>953036.000000</td>\n",
              "      <td>55000.000000</td>\n",
              "      <td>NaN</td>\n",
              "      <td>99842.336335</td>\n",
              "      <td>999809.240107</td>\n",
              "      <td>38.000000</td>\n",
              "      <td>57.00000</td>\n",
              "      <td>50.000000</td>\n",
              "      <td>306.000000</td>\n",
              "      <td>99864.560864</td>\n",
              "      <td>3.000000</td>\n",
              "      <td>4997.517944</td>\n",
              "      <td>438.000000</td>\n",
              "      <td>12.000000</td>\n",
              "      <td>3.000000</td>\n",
              "      <td>170.500000</td>\n",
              "      <td>170.500000</td>\n",
              "      <td>NaN</td>\n",
              "      <td>NaN</td>\n",
              "    </tr>\n",
              "  </tbody>\n",
              "</table>\n",
              "</div>"
            ],
            "text/plain": [
              "                label       msisdn  ...  pcircle       pdate\n",
              "count   143321.000000       143321  ...   143321      143321\n",
              "unique            NaN       131862  ...        1          82\n",
              "top               NaN  42825I88688  ...      UPW  2016-07-07\n",
              "freq              NaN            6  ...   143321        2127\n",
              "mean         0.875238          NaN  ...      NaN         NaN\n",
              "std          0.330450          NaN  ...      NaN         NaN\n",
              "min          0.000000          NaN  ...      NaN         NaN\n",
              "25%          1.000000          NaN  ...      NaN         NaN\n",
              "50%          1.000000          NaN  ...      NaN         NaN\n",
              "75%          1.000000          NaN  ...      NaN         NaN\n",
              "max          1.000000          NaN  ...      NaN         NaN\n",
              "\n",
              "[11 rows x 36 columns]"
            ]
          },
          "metadata": {
            "tags": []
          },
          "execution_count": 82
        }
      ]
    },
    {
      "cell_type": "markdown",
      "metadata": {
        "id": "m_N7Ft5GDlrB",
        "colab_type": "text"
      },
      "source": [
        "Now after checking the description of all the columns. We can see that \n",
        "*   *'pcircle'* has only one unique value and so it is of no significance to us.\n",
        "*   *'msisdn'* is unique for every user, so it is also not required.\n",
        "*   *'pdate'* is a date and is only between certain range and it is also not adding any value to the data.\n",
        "*   *'medianmarechprebal90'* is of object data type so we will have to convert it to numerical datatype.\n",
        "\n",
        "\n",
        "\n",
        "\n",
        "\n"
      ]
    },
    {
      "cell_type": "code",
      "metadata": {
        "id": "hSj54WsvH5eP",
        "colab_type": "code",
        "colab": {}
      },
      "source": [
        "#Droping irrelevant columns\n",
        "telecom_data.drop(columns=['msisdn','pcircle','pdate'], inplace=True)"
      ],
      "execution_count": 83,
      "outputs": []
    },
    {
      "cell_type": "code",
      "metadata": {
        "id": "YHaTTuP6F0oi",
        "colab_type": "code",
        "colab": {}
      },
      "source": [
        "# Converting 'medianmarechprebal90' to float\n",
        "telecom_data['medianmarechprebal90'] = telecom_data['medianmarechprebal90'].astype(float)"
      ],
      "execution_count": 84,
      "outputs": []
    },
    {
      "cell_type": "code",
      "metadata": {
        "id": "u02UDmDrHm7L",
        "colab_type": "code",
        "colab": {
          "base_uri": "https://localhost:8080/",
          "height": 689
        },
        "outputId": "01fd01d1-6339-4098-c43f-8f482c83d47e"
      },
      "source": [
        "#once again checking the info\n",
        "telecom_data.info()"
      ],
      "execution_count": 85,
      "outputs": [
        {
          "output_type": "stream",
          "text": [
            "<class 'pandas.core.frame.DataFrame'>\n",
            "Int64Index: 143321 entries, 0 to 143320\n",
            "Data columns (total 33 columns):\n",
            " #   Column                Non-Null Count   Dtype  \n",
            "---  ------                --------------   -----  \n",
            " 0   label                 143321 non-null  int64  \n",
            " 1   aon                   143321 non-null  float64\n",
            " 2   daily_decr30          143321 non-null  float64\n",
            " 3   daily_decr90          143321 non-null  float64\n",
            " 4   rental30              143321 non-null  float64\n",
            " 5   rental90              143321 non-null  float64\n",
            " 6   last_rech_date_ma     143321 non-null  float64\n",
            " 7   last_rech_date_da     143321 non-null  float64\n",
            " 8   last_rech_amt_ma      143321 non-null  int64  \n",
            " 9   cnt_ma_rech30         143321 non-null  int64  \n",
            " 10  fr_ma_rech30          143321 non-null  float64\n",
            " 11  sumamnt_ma_rech30     143321 non-null  float64\n",
            " 12  medianamnt_ma_rech30  143321 non-null  float64\n",
            " 13  medianmarechprebal30  143321 non-null  float64\n",
            " 14  cnt_ma_rech90         143321 non-null  int64  \n",
            " 15  fr_ma_rech90          143321 non-null  int64  \n",
            " 16  sumamnt_ma_rech90     143321 non-null  int64  \n",
            " 17  medianamnt_ma_rech90  143321 non-null  float64\n",
            " 18  medianmarechprebal90  143321 non-null  float64\n",
            " 19  cnt_da_rech30         143321 non-null  float64\n",
            " 20  fr_da_rech30          143321 non-null  float64\n",
            " 21  cnt_da_rech90         143321 non-null  float64\n",
            " 22  fr_da_rech90          143321 non-null  float64\n",
            " 23  cnt_loans30           143321 non-null  float64\n",
            " 24  amnt_loans30          143321 non-null  float64\n",
            " 25  maxamnt_loans30       143321 non-null  float64\n",
            " 26  medianamnt_loans30    143321 non-null  float64\n",
            " 27  cnt_loans90           143321 non-null  float64\n",
            " 28  amnt_loans90          143321 non-null  float64\n",
            " 29  maxamnt_loans90       143321 non-null  float64\n",
            " 30  medianamnt_loans90    143321 non-null  float64\n",
            " 31  payback30             143321 non-null  float64\n",
            " 32  payback90             143321 non-null  float64\n",
            "dtypes: float64(27), int64(6)\n",
            "memory usage: 37.2 MB\n"
          ],
          "name": "stdout"
        }
      ]
    },
    {
      "cell_type": "code",
      "metadata": {
        "id": "ZLV-9iq0xDAO",
        "colab_type": "code",
        "colab": {
          "base_uri": "https://localhost:8080/",
          "height": 618
        },
        "outputId": "26c0a970-06f6-4eed-ca5e-711216938d55"
      },
      "source": [
        "#Checking the correlation matrix\n",
        "correlation_matrix = telecom_data.corr()\n",
        "plt.figure(figsize=(12, 8))\n",
        "sns.heatmap(correlation_matrix)\n"
      ],
      "execution_count": 86,
      "outputs": [
        {
          "output_type": "execute_result",
          "data": {
            "text/plain": [
              "<matplotlib.axes._subplots.AxesSubplot at 0x7f05efaf54a8>"
            ]
          },
          "metadata": {
            "tags": []
          },
          "execution_count": 86
        },
        {
          "output_type": "display_data",
          "data": {
            "image/png": "[encoded data removed]",
            "text/plain": [
              "<Figure size 864x576 with 2 Axes>"
            ]
          },
          "metadata": {
            "tags": [],
            "needs_background": "light"
          }
        }
      ]
    },
    {
      "cell_type": "code",
      "metadata": {
        "id": "rThQWgZg36RM",
        "colab_type": "code",
        "colab": {}
      },
      "source": [
        "#As we can see there are many columns corelated to each other. So, we will remove highly corelated columns.\n",
        "correlated_features = set()\n",
        "for i in range(len(correlation_matrix .columns)):\n",
        "    for j in range(i):\n",
        "        if abs(correlation_matrix.iloc[i, j]) > 0.8:\n",
        "            colname = correlation_matrix.columns[i]\n",
        "            correlated_features.add(colname)\n",
        "# Here the correlated_features will have one of the highly corelated features."
      ],
      "execution_count": 87,
      "outputs": []
    },
    {
      "cell_type": "code",
      "metadata": {
        "id": "si7kW1144gsk",
        "colab_type": "code",
        "colab": {
          "base_uri": "https://localhost:8080/",
          "height": 168
        },
        "outputId": "57de5d0c-a730-43b6-d6d8-538d0b127878"
      },
      "source": [
        "correlated_features"
      ],
      "execution_count": 88,
      "outputs": [
        {
          "output_type": "execute_result",
          "data": {
            "text/plain": [
              "{'amnt_loans30',\n",
              " 'amnt_loans90',\n",
              " 'cnt_ma_rech90',\n",
              " 'daily_decr90',\n",
              " 'medianamnt_loans90',\n",
              " 'medianamnt_ma_rech90',\n",
              " 'payback90',\n",
              " 'rental90',\n",
              " 'sumamnt_ma_rech90'}"
            ]
          },
          "metadata": {
            "tags": []
          },
          "execution_count": 88
        }
      ]
    },
    {
      "cell_type": "code",
      "metadata": {
        "id": "IpDFWrss8why",
        "colab_type": "code",
        "colab": {}
      },
      "source": [
        "#Removing the correlates_features\n",
        "telecom_data.drop(labels=correlated_features, axis=1, inplace=True)"
      ],
      "execution_count": 89,
      "outputs": []
    },
    {
      "cell_type": "code",
      "metadata": {
        "id": "y-Ii4Jzw_XE8",
        "colab_type": "code",
        "colab": {}
      },
      "source": [
        "# getting features and target data from the dataset\n",
        "X = telecom_data.iloc[:,1:]\n",
        "y = telecom_data['label']"
      ],
      "execution_count": 90,
      "outputs": []
    },
    {
      "cell_type": "code",
      "metadata": {
        "id": "IExDX-X5PGcN",
        "colab_type": "code",
        "colab": {}
      },
      "source": [
        "# Scaling the features using Standard Scaler\n",
        "scaler = StandardScaler()\n",
        "X_scaled = scaler.fit_transform(X)"
      ],
      "execution_count": 91,
      "outputs": []
    },
    {
      "cell_type": "code",
      "metadata": {
        "id": "07VlYM258csa",
        "colab_type": "code",
        "colab": {
          "base_uri": "https://localhost:8080/",
          "height": 296
        },
        "outputId": "6e96c49d-d56e-4208-ec0f-010a28f8485b"
      },
      "source": [
        "#Checking the class balance\n",
        "sns.countplot(x = 'label', data = telecom_data)"
      ],
      "execution_count": 92,
      "outputs": [
        {
          "output_type": "execute_result",
          "data": {
            "text/plain": [
              "<matplotlib.axes._subplots.AxesSubplot at 0x7f05dc531eb8>"
            ]
          },
          "metadata": {
            "tags": []
          },
          "execution_count": 92
        },
        {
          "output_type": "display_data",
          "data": {
            "image/png": "[encoded data removed]",
            "text/plain": [
              "<Figure size 432x288 with 1 Axes>"
            ]
          },
          "metadata": {
            "tags": [],
            "needs_background": "light"
          }
        }
      ]
    },
    {
      "cell_type": "markdown",
      "metadata": {
        "id": "u6rKao7hKOty",
        "colab_type": "text"
      },
      "source": [
        "As the data is Highly Imbalance we will have to resample the data"
      ]
    },
    {
      "cell_type": "code",
      "metadata": {
        "id": "Xm1pE9Hmaj7X",
        "colab_type": "code",
        "colab": {}
      },
      "source": [
        "#OverSampling Data Using SMOTE(Synthetic Minority Oversampling Technique )\n",
        "method = SMOTE(kind='regular')"
      ],
      "execution_count": 93,
      "outputs": []
    },
    {
      "cell_type": "code",
      "metadata": {
        "id": "9PahqcwvalQc",
        "colab_type": "code",
        "colab": {
          "base_uri": "https://localhost:8080/",
          "height": 70
        },
        "outputId": "9bf869fe-ef89-4cf9-d701-239c15886a84"
      },
      "source": [
        "X_resampled, y_resampled = method.fit_sample(X_scaled, y)"
      ],
      "execution_count": 94,
      "outputs": [
        {
          "output_type": "stream",
          "text": [
            "/usr/local/lib/python3.6/dist-packages/sklearn/utils/deprecation.py:87: FutureWarning: Function safe_indexing is deprecated; safe_indexing is deprecated in version 0.22 and will be removed in version 0.24.\n",
            "  warnings.warn(msg, category=FutureWarning)\n"
          ],
          "name": "stderr"
        }
      ]
    },
    {
      "cell_type": "code",
      "metadata": {
        "id": "9388lrLicYK5",
        "colab_type": "code",
        "colab": {
          "base_uri": "https://localhost:8080/",
          "height": 282
        },
        "outputId": "6d060c31-dd94-486a-c36e-2552c05fd2ff"
      },
      "source": [
        "#Checking the class balance after sampling\n",
        "sns.countplot(x = y_resampled)"
      ],
      "execution_count": 95,
      "outputs": [
        {
          "output_type": "execute_result",
          "data": {
            "text/plain": [
              "<matplotlib.axes._subplots.AxesSubplot at 0x7f05dc340f28>"
            ]
          },
          "metadata": {
            "tags": []
          },
          "execution_count": 95
        },
        {
          "output_type": "display_data",
          "data": {
            "image/png": "[encoded data removed]",
            "text/plain": [
              "<Figure size 432x288 with 1 Axes>"
            ]
          },
          "metadata": {
            "tags": [],
            "needs_background": "light"
          }
        }
      ]
    },
    {
      "cell_type": "code",
      "metadata": {
        "id": "W9CZn0TFAIlT",
        "colab_type": "code",
        "colab": {}
      },
      "source": [
        "#Splitting the data Using Train Test Split\n",
        "X_train,X_test,y_train,y_test=train_test_split(X_resampled ,y_resampled , random_state=22)"
      ],
      "execution_count": 96,
      "outputs": []
    },
    {
      "cell_type": "code",
      "metadata": {
        "id": "7m4CFhI6_cOd",
        "colab_type": "code",
        "colab": {
          "base_uri": "https://localhost:8080/",
          "height": 151
        },
        "outputId": "30195542-25d0-44eb-bb80-70abb4b89e51"
      },
      "source": [
        "#Fitting Our Model Using Random Forest\n",
        "rfclassifier = RandomForestClassifier(n_estimators=500, random_state=22)\n",
        "rfclassifier.fit(X_train, y_train)"
      ],
      "execution_count": 97,
      "outputs": [
        {
          "output_type": "execute_result",
          "data": {
            "text/plain": [
              "RandomForestClassifier(bootstrap=True, ccp_alpha=0.0, class_weight=None,\n",
              "                       criterion='gini', max_depth=None, max_features='auto',\n",
              "                       max_leaf_nodes=None, max_samples=None,\n",
              "                       min_impurity_decrease=0.0, min_impurity_split=None,\n",
              "                       min_samples_leaf=1, min_samples_split=2,\n",
              "                       min_weight_fraction_leaf=0.0, n_estimators=500,\n",
              "                       n_jobs=None, oob_score=False, random_state=22, verbose=0,\n",
              "                       warm_start=False)"
            ]
          },
          "metadata": {
            "tags": []
          },
          "execution_count": 97
        }
      ]
    },
    {
      "cell_type": "code",
      "metadata": {
        "id": "Shg8a29JNBPJ",
        "colab_type": "code",
        "colab": {
          "base_uri": "https://localhost:8080/",
          "height": 450
        },
        "outputId": "2e7afbc8-8d67-4cb7-cdd6-77e27076a2b1"
      },
      "source": [
        "#Analysing the trained Classifier\n",
        "y_pred = rfclassifier.predict(X_test)\n",
        "print(\"Accuracy:\",metrics.accuracy_score(y_test, y_pred))\n",
        "print(classification_report(y_pred,y_test))\n",
        "sns.heatmap(confusion_matrix(y_pred,y_test), annot=True,fmt='.2f')"
      ],
      "execution_count": 98,
      "outputs": [
        {
          "output_type": "stream",
          "text": [
            "Accuracy: 0.9401466836734694\n",
            "              precision    recall  f1-score   support\n",
            "\n",
            "           0       0.94      0.94      0.94     31596\n",
            "           1       0.94      0.94      0.94     31124\n",
            "\n",
            "    accuracy                           0.94     62720\n",
            "   macro avg       0.94      0.94      0.94     62720\n",
            "weighted avg       0.94      0.94      0.94     62720\n",
            "\n"
          ],
          "name": "stdout"
        },
        {
          "output_type": "execute_result",
          "data": {
            "text/plain": [
              "<matplotlib.axes._subplots.AxesSubplot at 0x7f05dc2c54a8>"
            ]
          },
          "metadata": {
            "tags": []
          },
          "execution_count": 98
        },
        {
          "output_type": "display_data",
          "data": {
            "image/png": "[encoded data removed]",
            "text/plain": [
              "<Figure size 432x288 with 2 Axes>"
            ]
          },
          "metadata": {
            "tags": [],
            "needs_background": "light"
          }
        }
      ]
    },
    {
      "cell_type": "code",
      "metadata": {
        "id": "pcmLTLtmmCZ9",
        "colab_type": "code",
        "colab": {
          "base_uri": "https://localhost:8080/",
          "height": 451
        },
        "outputId": "c4830e4c-6b84-4640-ed48-aef1cab2c117"
      },
      "source": [
        "#Using Logistic Regression Model\n",
        "logreg = LogisticRegression()\n",
        "logreg.fit(X_train, y_train)\n",
        "y_pred = logreg.predict(X_test)\n",
        "print(\"Accuracy:\",metrics.accuracy_score(y_test, y_pred))\n",
        "print(classification_report(y_pred,y_test))\n",
        "sns.heatmap(confusion_matrix(y_pred,y_test), annot=True,fmt='.2f')"
      ],
      "execution_count": 99,
      "outputs": [
        {
          "output_type": "stream",
          "text": [
            "Accuracy: 0.75234375\n",
            "              precision    recall  f1-score   support\n",
            "\n",
            "           0       0.80      0.73      0.77     34599\n",
            "           1       0.70      0.78      0.74     28121\n",
            "\n",
            "    accuracy                           0.75     62720\n",
            "   macro avg       0.75      0.75      0.75     62720\n",
            "weighted avg       0.76      0.75      0.75     62720\n",
            "\n"
          ],
          "name": "stdout"
        },
        {
          "output_type": "execute_result",
          "data": {
            "text/plain": [
              "<matplotlib.axes._subplots.AxesSubplot at 0x7f05dc2b9c18>"
            ]
          },
          "metadata": {
            "tags": []
          },
          "execution_count": 99
        },
        {
          "output_type": "display_data",
          "data": {
            "image/png": "[encoded data removed]",
            "text/plain": [
              "<Figure size 432x288 with 2 Axes>"
            ]
          },
          "metadata": {
            "tags": [],
            "needs_background": "light"
          }
        }
      ]
    },
    {
      "cell_type": "code",
      "metadata": {
        "id": "yOMZyS28nOLX",
        "colab_type": "code",
        "colab": {
          "base_uri": "https://localhost:8080/",
          "height": 450
        },
        "outputId": "c0248856-7bc9-442b-cf82-306c9d0a1b43"
      },
      "source": [
        "#Using Decision Tree\n",
        "decisiontree = DecisionTreeClassifier()\n",
        "decisiontree.fit(X_train, y_train)\n",
        "y_pred = decisiontree.predict(X_test)\n",
        "print(\"Accuracy:\",metrics.accuracy_score(y_test, y_pred))\n",
        "print(classification_report(y_pred,y_test))\n",
        "sns.heatmap(confusion_matrix(y_pred,y_test), annot=True,fmt='.2f')"
      ],
      "execution_count": 100,
      "outputs": [
        {
          "output_type": "stream",
          "text": [
            "Accuracy: 0.8850765306122449\n",
            "              precision    recall  f1-score   support\n",
            "\n",
            "           0       0.90      0.88      0.89     32148\n",
            "           1       0.87      0.89      0.88     30572\n",
            "\n",
            "    accuracy                           0.89     62720\n",
            "   macro avg       0.89      0.89      0.89     62720\n",
            "weighted avg       0.89      0.89      0.89     62720\n",
            "\n"
          ],
          "name": "stdout"
        },
        {
          "output_type": "execute_result",
          "data": {
            "text/plain": [
              "<matplotlib.axes._subplots.AxesSubplot at 0x7f05dc1d68d0>"
            ]
          },
          "metadata": {
            "tags": []
          },
          "execution_count": 100
        },
        {
          "output_type": "display_data",
          "data": {
            "image/png": "[encoded data removed]",
            "text/plain": [
              "<Figure size 432x288 with 2 Axes>"
            ]
          },
          "metadata": {
            "tags": [],
            "needs_background": "light"
          }
        }
      ]
    },
    {
      "cell_type": "markdown",
      "metadata": {
        "id": "Gr5xLV7j-Jjj",
        "colab_type": "text"
      },
      "source": [
        "After Analysing All the three model we an say that the Random Forest Classifier is giving the best Recall which is what we need for this Problem. So, we will select Random Forest Classifier. Also We want to Return the Probability if the coustomer will payback the loan amount or not. So, for that let us take an example of any random user to find the probability."
      ]
    },
    {
      "cell_type": "code",
      "metadata": {
        "id": "aUvOUirS0quq",
        "colab_type": "code",
        "colab": {
          "base_uri": "https://localhost:8080/",
          "height": 34
        },
        "outputId": "494dcc2e-786b-4ba8-aba7-88b7b2084d78"
      },
      "source": [
        "#For average user we will take the mean of all the dataset columns\n",
        "rand_data=X_resampled[1515]\n",
        "#We will have to reshape the data to 2D array\n",
        "rand_data_respd=rand_data.reshape(1,-1)\n",
        "pay_prob = rfclassifier.predict_proba(rand_data_respd)      #Predicting Probablity\n",
        "print(\"Probability that the user will pay the loan is: \", pay_prob[0][1])\n"
      ],
      "execution_count": 101,
      "outputs": [
        {
          "output_type": "stream",
          "text": [
            "Probability that the user will pay the loan is:  0.772\n"
          ],
          "name": "stdout"
        }
      ]
    },
    {
      "cell_type": "markdown",
      "metadata": {
        "id": "Buo5SOsAGfYE",
        "colab_type": "text"
      },
      "source": [
        "So, we got that there is 73% probability that the given customer will pay the loan."
      ]
    }
  ]
}